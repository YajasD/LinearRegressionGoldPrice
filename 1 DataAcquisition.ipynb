{
 "cells": [
  {
   "cell_type": "markdown",
   "metadata": {},
   "source": [
    "#### In this notebook, Gold price, CRB price, Inflation Rate, M1 Money Supply and EURUSD data is scraped/downloaded, cleaned and saved to a pickle file to be used for EDA and modeling. "
   ]
  },
  {
   "cell_type": "code",
   "execution_count": 1,
   "metadata": {},
   "outputs": [
    {
     "data": {
      "text/plain": [
       "['/Users/yajasdwivedi/anaconda3/lib/python3.6/site-packages/requests']"
      ]
     },
     "execution_count": 1,
     "metadata": {},
     "output_type": "execute_result"
    }
   ],
   "source": [
    "import requests\n",
    "import pandas as pd\n",
    "import numpy as np\n",
    "from selenium import webdriver\n",
    "from selenium.webdriver.common.keys import Keys\n",
    "import time\n",
    "from datetime import date\n",
    "import os\n",
    "\n",
    "chromedriver = \"/Applications/chromedriver\"\n",
    "os.environ[\"webdriver.chrome.driver\"] = chromedriver\n",
    "\n",
    "requests.__path__"
   ]
  },
  {
   "cell_type": "markdown",
   "metadata": {},
   "source": [
    "## Scraping Gold Prices"
   ]
  },
  {
   "cell_type": "code",
   "execution_count": 2,
   "metadata": {},
   "outputs": [],
   "source": [
    "driver = webdriver.Chrome(chromedriver)\n",
    "driver.get('http://onlygold.com/Info/Search-Gold-Prices.asp')\n",
    "time.sleep(1)"
   ]
  },
  {
   "cell_type": "code",
   "execution_count": 3,
   "metadata": {},
   "outputs": [],
   "source": [
    "driver.refresh()"
   ]
  },
  {
   "cell_type": "code",
   "execution_count": 4,
   "metadata": {},
   "outputs": [],
   "source": [
    "#Function that given date, extracts the table containing day and price.\n",
    "def getGoldprice(date):\n",
    "    #Find box where date needs to be entered\n",
    "    search_box = driver.find_element_by_name(\"fmEndDate\")\n",
    "    #Type date in box\n",
    "    search_box.send_keys(date)\n",
    "    #Press ENTER\n",
    "    search_box.send_keys(Keys.RETURN)\n",
    "    #Store all information from page\n",
    "    url = driver.page_source\n",
    "    #Read HTML and extract desired table\n",
    "    gold_price = pd.read_html(url,header=None,parse_dates=True)[12]\n",
    "    return gold_price\n",
    "    "
   ]
  },
  {
   "cell_type": "code",
   "execution_count": 5,
   "metadata": {},
   "outputs": [],
   "source": [
    "#Function to generate list of dates - enter start and end date in format 'mm/dd/yy'\n",
    "def dateGenerator(start,end):\n",
    "    dates = pd.date_range(start, end, freq='20D')\n",
    "    dates_list = []\n",
    "    for date in dates:\n",
    "        dates_list.append(date.strftime('%m/%d/%Y'))\n",
    "    return dates_list"
   ]
  },
  {
   "cell_type": "code",
   "execution_count": 6,
   "metadata": {},
   "outputs": [],
   "source": [
    "#Generate desired dates\n",
    "dates = dateGenerator('08/02/16','04/20/18')\n",
    "gold_prices = []\n",
    "#Loop through list of dates and grab price data for each and store in a list\n",
    "for date in dates:\n",
    "    gold_prices.append(getGoldprice(date))"
   ]
  },
  {
   "cell_type": "code",
   "execution_count": 7,
   "metadata": {},
   "outputs": [],
   "source": [
    "#Combine list of dataframes to make one dataframe\n",
    "gold_prices_df = pd.concat(gold_prices)"
   ]
  },
  {
   "cell_type": "code",
   "execution_count": 8,
   "metadata": {},
   "outputs": [],
   "source": [
    "#Clean up dataframe\n",
    "gold_prices_df.reset_index(inplace = True)\n",
    "gold_prices_df.drop_duplicates(inplace = True)\n",
    "gold_prices_df.drop(('index'), axis = 1, inplace = True)\n",
    "gold_prices_df.columns = ['DATE','Gold_Price']"
   ]
  },
  {
   "cell_type": "code",
   "execution_count": 9,
   "metadata": {},
   "outputs": [],
   "source": [
    "gold_prices_df.DATE = pd.to_datetime(gold_prices_df.DATE)"
   ]
  },
  {
   "cell_type": "code",
   "execution_count": 10,
   "metadata": {},
   "outputs": [],
   "source": [
    "#Remove $ symbol from prices...\n",
    "gold_prices_with_dollars = gold_prices_df['Gold_Price']\n",
    "def gross_text_to_float(gross_text):\n",
    "    clean_text = gross_text.replace('$','').replace(',','')\n",
    "    gross_as_float = float(clean_text)\n",
    "    return gross_as_float\n",
    "#...and convert to float\n",
    "gold_price_column = []\n",
    "for price in gold_prices_with_dollars:\n",
    "    gold_price_column.append(gross_text_to_float(price))"
   ]
  },
  {
   "cell_type": "code",
   "execution_count": 11,
   "metadata": {},
   "outputs": [],
   "source": [
    "gold_prices_df['Gold_Price_new'] = gold_price_column\n",
    "gold_prices_df.drop('Gold_Price', axis = 1, inplace=True)\n",
    "gold_prices_df.columns = ['DATE', 'Gold_Price']\n",
    "gold_prices_df = gold_prices_df[gold_prices_df.Gold_Price != 0]\n",
    "gold_prices_df.sort_values('DATE', ascending = True, inplace = True)"
   ]
  },
  {
   "cell_type": "code",
   "execution_count": 12,
   "metadata": {},
   "outputs": [
    {
     "data": {
      "text/html": [
       "<div>\n",
       "<style scoped>\n",
       "    .dataframe tbody tr th:only-of-type {\n",
       "        vertical-align: middle;\n",
       "    }\n",
       "\n",
       "    .dataframe tbody tr th {\n",
       "        vertical-align: top;\n",
       "    }\n",
       "\n",
       "    .dataframe thead th {\n",
       "        text-align: right;\n",
       "    }\n",
       "</style>\n",
       "<table border=\"1\" class=\"dataframe\">\n",
       "  <thead>\n",
       "    <tr style=\"text-align: right;\">\n",
       "      <th></th>\n",
       "      <th>DATE</th>\n",
       "      <th>Gold_Price</th>\n",
       "    </tr>\n",
       "  </thead>\n",
       "  <tbody>\n",
       "    <tr>\n",
       "      <th>14</th>\n",
       "      <td>2016-07-13</td>\n",
       "      <td>1342.75</td>\n",
       "    </tr>\n",
       "    <tr>\n",
       "      <th>13</th>\n",
       "      <td>2016-07-14</td>\n",
       "      <td>1323.60</td>\n",
       "    </tr>\n",
       "    <tr>\n",
       "      <th>12</th>\n",
       "      <td>2016-07-15</td>\n",
       "      <td>1327.00</td>\n",
       "    </tr>\n",
       "    <tr>\n",
       "      <th>11</th>\n",
       "      <td>2016-07-18</td>\n",
       "      <td>1334.70</td>\n",
       "    </tr>\n",
       "    <tr>\n",
       "      <th>10</th>\n",
       "      <td>2016-07-19</td>\n",
       "      <td>1330.90</td>\n",
       "    </tr>\n",
       "  </tbody>\n",
       "</table>\n",
       "</div>"
      ],
      "text/plain": [
       "         DATE  Gold_Price\n",
       "14 2016-07-13     1342.75\n",
       "13 2016-07-14     1323.60\n",
       "12 2016-07-15     1327.00\n",
       "11 2016-07-18     1334.70\n",
       "10 2016-07-19     1330.90"
      ]
     },
     "execution_count": 12,
     "metadata": {},
     "output_type": "execute_result"
    }
   ],
   "source": [
    "gold_prices_df.head()"
   ]
  },
  {
   "cell_type": "code",
   "execution_count": 13,
   "metadata": {},
   "outputs": [],
   "source": [
    "gold_prices_df.to_pickle('/Users/yajasdwivedi/metis/LinearRegressionPriceGold/gold_prices_df.pkl')"
   ]
  },
  {
   "cell_type": "markdown",
   "metadata": {},
   "source": [
    "## Preparing CRB Data"
   ]
  },
  {
   "cell_type": "code",
   "execution_count": 14,
   "metadata": {},
   "outputs": [],
   "source": [
    "#CRB Data can be directly downloaded in csv format from 'https://quotes.wsj.com/index/XX/CRB/historical-prices' \n",
    "#by entering the desired dates"
   ]
  },
  {
   "cell_type": "code",
   "execution_count": 15,
   "metadata": {},
   "outputs": [],
   "source": [
    "path_to_crb_file = '/Users/yajasdwivedi/metis/LinearRegressionPriceGold/CRB_HistoricalPrices.csv'\n",
    "crb_df = pd.read_csv(path_to_crb_file)"
   ]
  },
  {
   "cell_type": "code",
   "execution_count": 16,
   "metadata": {},
   "outputs": [
    {
     "data": {
      "text/html": [
       "<div>\n",
       "<style scoped>\n",
       "    .dataframe tbody tr th:only-of-type {\n",
       "        vertical-align: middle;\n",
       "    }\n",
       "\n",
       "    .dataframe tbody tr th {\n",
       "        vertical-align: top;\n",
       "    }\n",
       "\n",
       "    .dataframe thead th {\n",
       "        text-align: right;\n",
       "    }\n",
       "</style>\n",
       "<table border=\"1\" class=\"dataframe\">\n",
       "  <thead>\n",
       "    <tr style=\"text-align: right;\">\n",
       "      <th></th>\n",
       "      <th>Date</th>\n",
       "      <th>Open</th>\n",
       "      <th>High</th>\n",
       "      <th>Low</th>\n",
       "      <th>Close</th>\n",
       "    </tr>\n",
       "  </thead>\n",
       "  <tbody>\n",
       "    <tr>\n",
       "      <th>0</th>\n",
       "      <td>04/20/18</td>\n",
       "      <td>201.06</td>\n",
       "      <td>202.01</td>\n",
       "      <td>200.71</td>\n",
       "      <td>201.92</td>\n",
       "    </tr>\n",
       "    <tr>\n",
       "      <th>1</th>\n",
       "      <td>04/19/18</td>\n",
       "      <td>203.88</td>\n",
       "      <td>203.92</td>\n",
       "      <td>201.47</td>\n",
       "      <td>201.86</td>\n",
       "    </tr>\n",
       "    <tr>\n",
       "      <th>2</th>\n",
       "      <td>04/18/18</td>\n",
       "      <td>200.82</td>\n",
       "      <td>202.98</td>\n",
       "      <td>200.82</td>\n",
       "      <td>202.97</td>\n",
       "    </tr>\n",
       "    <tr>\n",
       "      <th>3</th>\n",
       "      <td>04/17/18</td>\n",
       "      <td>199.24</td>\n",
       "      <td>199.60</td>\n",
       "      <td>198.57</td>\n",
       "      <td>199.38</td>\n",
       "    </tr>\n",
       "    <tr>\n",
       "      <th>4</th>\n",
       "      <td>04/16/18</td>\n",
       "      <td>198.98</td>\n",
       "      <td>200.43</td>\n",
       "      <td>198.98</td>\n",
       "      <td>199.55</td>\n",
       "    </tr>\n",
       "  </tbody>\n",
       "</table>\n",
       "</div>"
      ],
      "text/plain": [
       "       Date    Open    High     Low   Close\n",
       "0  04/20/18  201.06  202.01  200.71  201.92\n",
       "1  04/19/18  203.88  203.92  201.47  201.86\n",
       "2  04/18/18  200.82  202.98  200.82  202.97\n",
       "3  04/17/18  199.24  199.60  198.57  199.38\n",
       "4  04/16/18  198.98  200.43  198.98  199.55"
      ]
     },
     "execution_count": 16,
     "metadata": {},
     "output_type": "execute_result"
    }
   ],
   "source": [
    "crb_df.head()"
   ]
  },
  {
   "cell_type": "code",
   "execution_count": 17,
   "metadata": {},
   "outputs": [],
   "source": [
    "crb_df.drop([' Open', ' High', ' Low'], axis=1,inplace=True)\n",
    "crb_df.columns = ['DATE','CRB_Price']"
   ]
  },
  {
   "cell_type": "code",
   "execution_count": 18,
   "metadata": {},
   "outputs": [],
   "source": [
    "crb_df.DATE = pd.to_datetime(crb_df.DATE)"
   ]
  },
  {
   "cell_type": "code",
   "execution_count": 19,
   "metadata": {},
   "outputs": [
    {
     "data": {
      "text/html": [
       "<div>\n",
       "<style scoped>\n",
       "    .dataframe tbody tr th:only-of-type {\n",
       "        vertical-align: middle;\n",
       "    }\n",
       "\n",
       "    .dataframe tbody tr th {\n",
       "        vertical-align: top;\n",
       "    }\n",
       "\n",
       "    .dataframe thead th {\n",
       "        text-align: right;\n",
       "    }\n",
       "</style>\n",
       "<table border=\"1\" class=\"dataframe\">\n",
       "  <thead>\n",
       "    <tr style=\"text-align: right;\">\n",
       "      <th></th>\n",
       "      <th>DATE</th>\n",
       "      <th>CRB_Price</th>\n",
       "    </tr>\n",
       "  </thead>\n",
       "  <tbody>\n",
       "    <tr>\n",
       "      <th>0</th>\n",
       "      <td>2018-04-20</td>\n",
       "      <td>201.92</td>\n",
       "    </tr>\n",
       "    <tr>\n",
       "      <th>1</th>\n",
       "      <td>2018-04-19</td>\n",
       "      <td>201.86</td>\n",
       "    </tr>\n",
       "    <tr>\n",
       "      <th>2</th>\n",
       "      <td>2018-04-18</td>\n",
       "      <td>202.97</td>\n",
       "    </tr>\n",
       "    <tr>\n",
       "      <th>3</th>\n",
       "      <td>2018-04-17</td>\n",
       "      <td>199.38</td>\n",
       "    </tr>\n",
       "    <tr>\n",
       "      <th>4</th>\n",
       "      <td>2018-04-16</td>\n",
       "      <td>199.55</td>\n",
       "    </tr>\n",
       "  </tbody>\n",
       "</table>\n",
       "</div>"
      ],
      "text/plain": [
       "        DATE  CRB_Price\n",
       "0 2018-04-20     201.92\n",
       "1 2018-04-19     201.86\n",
       "2 2018-04-18     202.97\n",
       "3 2018-04-17     199.38\n",
       "4 2018-04-16     199.55"
      ]
     },
     "execution_count": 19,
     "metadata": {},
     "output_type": "execute_result"
    }
   ],
   "source": [
    "crb_df.head()"
   ]
  },
  {
   "cell_type": "code",
   "execution_count": 20,
   "metadata": {},
   "outputs": [],
   "source": [
    "crb_df.to_pickle('/Users/yajasdwivedi/metis/LinearRegressionPriceGold/crb_df.pkl')"
   ]
  },
  {
   "cell_type": "markdown",
   "metadata": {},
   "source": [
    "## Scraping Inflation Data"
   ]
  },
  {
   "cell_type": "code",
   "execution_count": 21,
   "metadata": {},
   "outputs": [],
   "source": [
    "driver.get('https://inflationdata.com/Inflation/Inflation_Rate/CurrentInflation.asp?reloaded=true')\n",
    "time.sleep(1)"
   ]
  },
  {
   "cell_type": "code",
   "execution_count": 22,
   "metadata": {},
   "outputs": [],
   "source": [
    "url = driver.page_source\n",
    "inflation_rate = pd.read_html(url,header=0,parse_dates=True)[1]"
   ]
  },
  {
   "cell_type": "code",
   "execution_count": 23,
   "metadata": {},
   "outputs": [
    {
     "data": {
      "text/html": [
       "<div>\n",
       "<style scoped>\n",
       "    .dataframe tbody tr th:only-of-type {\n",
       "        vertical-align: middle;\n",
       "    }\n",
       "\n",
       "    .dataframe tbody tr th {\n",
       "        vertical-align: top;\n",
       "    }\n",
       "\n",
       "    .dataframe thead th {\n",
       "        text-align: right;\n",
       "    }\n",
       "</style>\n",
       "<table border=\"1\" class=\"dataframe\">\n",
       "  <thead>\n",
       "    <tr style=\"text-align: right;\">\n",
       "      <th></th>\n",
       "      <th>Year</th>\n",
       "      <th>Jan</th>\n",
       "      <th>Feb</th>\n",
       "      <th>Mar</th>\n",
       "      <th>Apr</th>\n",
       "      <th>May</th>\n",
       "      <th>Jun</th>\n",
       "      <th>Jul</th>\n",
       "      <th>Aug</th>\n",
       "      <th>Sep</th>\n",
       "      <th>Oct</th>\n",
       "      <th>Nov</th>\n",
       "      <th>Dec</th>\n",
       "      <th>Ave</th>\n",
       "    </tr>\n",
       "  </thead>\n",
       "  <tbody>\n",
       "    <tr>\n",
       "      <th>0</th>\n",
       "      <td>2018</td>\n",
       "      <td>2.07%</td>\n",
       "      <td>2.21%</td>\n",
       "      <td>2.36%</td>\n",
       "      <td>2.46%</td>\n",
       "      <td>2.80%</td>\n",
       "      <td>2.87%</td>\n",
       "      <td>2.95%</td>\n",
       "      <td>2.70%</td>\n",
       "      <td>NaN</td>\n",
       "      <td>NaN</td>\n",
       "      <td>NaN</td>\n",
       "      <td>NaN</td>\n",
       "      <td>NaN</td>\n",
       "    </tr>\n",
       "    <tr>\n",
       "      <th>1</th>\n",
       "      <td>2017</td>\n",
       "      <td>2.50%</td>\n",
       "      <td>2.74%</td>\n",
       "      <td>2.38%</td>\n",
       "      <td>2.20%</td>\n",
       "      <td>1.87%</td>\n",
       "      <td>1.63%</td>\n",
       "      <td>1.73%</td>\n",
       "      <td>1.94%</td>\n",
       "      <td>2.23%</td>\n",
       "      <td>2.04%</td>\n",
       "      <td>2.20%</td>\n",
       "      <td>2.11%</td>\n",
       "      <td>2.13%</td>\n",
       "    </tr>\n",
       "    <tr>\n",
       "      <th>2</th>\n",
       "      <td>2016</td>\n",
       "      <td>1.37%</td>\n",
       "      <td>1.02%</td>\n",
       "      <td>0.85%</td>\n",
       "      <td>1.13%</td>\n",
       "      <td>1.02%</td>\n",
       "      <td>1.01%</td>\n",
       "      <td>0.84%</td>\n",
       "      <td>1.06%</td>\n",
       "      <td>1.46%</td>\n",
       "      <td>1.64%</td>\n",
       "      <td>1.69%</td>\n",
       "      <td>2.07%</td>\n",
       "      <td>1.26%</td>\n",
       "    </tr>\n",
       "    <tr>\n",
       "      <th>3</th>\n",
       "      <td>2015</td>\n",
       "      <td>-0.09%</td>\n",
       "      <td>-0.03%</td>\n",
       "      <td>-0.07%</td>\n",
       "      <td>-0.20%</td>\n",
       "      <td>-0.04%</td>\n",
       "      <td>0.12%</td>\n",
       "      <td>0.17%</td>\n",
       "      <td>0.20%</td>\n",
       "      <td>-0.04%</td>\n",
       "      <td>0.17%</td>\n",
       "      <td>0.50%</td>\n",
       "      <td>0.73%</td>\n",
       "      <td>0.12%</td>\n",
       "    </tr>\n",
       "    <tr>\n",
       "      <th>4</th>\n",
       "      <td>2014</td>\n",
       "      <td>1.58%</td>\n",
       "      <td>1.13%</td>\n",
       "      <td>1.51%</td>\n",
       "      <td>1.95%</td>\n",
       "      <td>2.13%</td>\n",
       "      <td>2.07%</td>\n",
       "      <td>1.99%</td>\n",
       "      <td>1.70%</td>\n",
       "      <td>1.66%</td>\n",
       "      <td>1.66%</td>\n",
       "      <td>1.32%</td>\n",
       "      <td>0.76%</td>\n",
       "      <td>1.62%</td>\n",
       "    </tr>\n",
       "  </tbody>\n",
       "</table>\n",
       "</div>"
      ],
      "text/plain": [
       "   Year     Jan     Feb     Mar     Apr     May    Jun    Jul    Aug     Sep  \\\n",
       "0  2018   2.07%   2.21%   2.36%   2.46%   2.80%  2.87%  2.95%  2.70%     NaN   \n",
       "1  2017   2.50%   2.74%   2.38%   2.20%   1.87%  1.63%  1.73%  1.94%   2.23%   \n",
       "2  2016   1.37%   1.02%   0.85%   1.13%   1.02%  1.01%  0.84%  1.06%   1.46%   \n",
       "3  2015  -0.09%  -0.03%  -0.07%  -0.20%  -0.04%  0.12%  0.17%  0.20%  -0.04%   \n",
       "4  2014   1.58%   1.13%   1.51%   1.95%   2.13%  2.07%  1.99%  1.70%   1.66%   \n",
       "\n",
       "     Oct    Nov    Dec    Ave  \n",
       "0    NaN    NaN    NaN    NaN  \n",
       "1  2.04%  2.20%  2.11%  2.13%  \n",
       "2  1.64%  1.69%  2.07%  1.26%  \n",
       "3  0.17%  0.50%  0.73%  0.12%  \n",
       "4  1.66%  1.32%  0.76%  1.62%  "
      ]
     },
     "execution_count": 23,
     "metadata": {},
     "output_type": "execute_result"
    }
   ],
   "source": [
    "inflation_rate.head()"
   ]
  },
  {
   "cell_type": "code",
   "execution_count": 24,
   "metadata": {},
   "outputs": [],
   "source": [
    "inflation_rate = inflation_rate.melt(id_vars=['Year'], var_name='month', value_name='inflation_rate')"
   ]
  },
  {
   "cell_type": "code",
   "execution_count": 25,
   "metadata": {},
   "outputs": [
    {
     "data": {
      "text/html": [
       "<div>\n",
       "<style scoped>\n",
       "    .dataframe tbody tr th:only-of-type {\n",
       "        vertical-align: middle;\n",
       "    }\n",
       "\n",
       "    .dataframe tbody tr th {\n",
       "        vertical-align: top;\n",
       "    }\n",
       "\n",
       "    .dataframe thead th {\n",
       "        text-align: right;\n",
       "    }\n",
       "</style>\n",
       "<table border=\"1\" class=\"dataframe\">\n",
       "  <thead>\n",
       "    <tr style=\"text-align: right;\">\n",
       "      <th></th>\n",
       "      <th>Year</th>\n",
       "      <th>month</th>\n",
       "      <th>inflation_rate</th>\n",
       "    </tr>\n",
       "  </thead>\n",
       "  <tbody>\n",
       "    <tr>\n",
       "      <th>0</th>\n",
       "      <td>2018</td>\n",
       "      <td>Jan</td>\n",
       "      <td>2.07%</td>\n",
       "    </tr>\n",
       "    <tr>\n",
       "      <th>1</th>\n",
       "      <td>2017</td>\n",
       "      <td>Jan</td>\n",
       "      <td>2.50%</td>\n",
       "    </tr>\n",
       "    <tr>\n",
       "      <th>2</th>\n",
       "      <td>2016</td>\n",
       "      <td>Jan</td>\n",
       "      <td>1.37%</td>\n",
       "    </tr>\n",
       "    <tr>\n",
       "      <th>3</th>\n",
       "      <td>2015</td>\n",
       "      <td>Jan</td>\n",
       "      <td>-0.09%</td>\n",
       "    </tr>\n",
       "    <tr>\n",
       "      <th>4</th>\n",
       "      <td>2014</td>\n",
       "      <td>Jan</td>\n",
       "      <td>1.58%</td>\n",
       "    </tr>\n",
       "  </tbody>\n",
       "</table>\n",
       "</div>"
      ],
      "text/plain": [
       "   Year month inflation_rate\n",
       "0  2018   Jan          2.07%\n",
       "1  2017   Jan          2.50%\n",
       "2  2016   Jan          1.37%\n",
       "3  2015   Jan         -0.09%\n",
       "4  2014   Jan          1.58%"
      ]
     },
     "execution_count": 25,
     "metadata": {},
     "output_type": "execute_result"
    }
   ],
   "source": [
    "inflation_rate.head()"
   ]
  },
  {
   "cell_type": "code",
   "execution_count": 26,
   "metadata": {},
   "outputs": [],
   "source": [
    "#Create a new dataframe that contains all dates we are interested in - 'inflation_rate_df', note here that values for inflation\n",
    "#are given monthly not daily - for the purposes of our model, we assign monthly values to every day we are interested in.\n",
    "data_dates = pd.bdate_range(pd.to_datetime('13/07/2016', format='%d/%m/%Y'), periods=460).tolist()\n",
    "inflation_rate_df = pd.DataFrame({\"DATE\": data_dates})\n",
    "inflation_rate_df.sort_values('DATE', ascending = False, inplace = True)\n",
    "inflation_rate_df.reset_index(inplace = True)\n",
    "inflation_rate_df.drop('index',axis=1,inplace=True)\n",
    "#inflation_rate_df.drop('level_0',axis=1,inplace=True)"
   ]
  },
  {
   "cell_type": "code",
   "execution_count": 27,
   "metadata": {},
   "outputs": [],
   "source": [
    "inflation_rate['month_year'] = inflation_rate['month'] + ' ' + inflation_rate['Year']\n",
    "inflation_rate = inflation_rate[inflation_rate.Year.isin(['2018','2017','2016']) & (inflation_rate.month != 'Ave')]\n",
    "inflation_rate.month_year = pd.to_datetime(inflation_rate.month_year)"
   ]
  },
  {
   "cell_type": "code",
   "execution_count": 28,
   "metadata": {},
   "outputs": [],
   "source": [
    "inflation_rate.set_index(inflation_rate['month_year'], inplace=True)\n",
    "inflation_rate_df.set_index(inflation_rate_df['DATE'], inplace=True)\n",
    "inflation_rate['per'] = inflation_rate.index.to_period('M')\n",
    "inflation_rate_df['per'] = inflation_rate_df.index.to_period('M')"
   ]
  },
  {
   "cell_type": "code",
   "execution_count": 29,
   "metadata": {},
   "outputs": [
    {
     "data": {
      "text/html": [
       "<div>\n",
       "<style scoped>\n",
       "    .dataframe tbody tr th:only-of-type {\n",
       "        vertical-align: middle;\n",
       "    }\n",
       "\n",
       "    .dataframe tbody tr th {\n",
       "        vertical-align: top;\n",
       "    }\n",
       "\n",
       "    .dataframe thead th {\n",
       "        text-align: right;\n",
       "    }\n",
       "</style>\n",
       "<table border=\"1\" class=\"dataframe\">\n",
       "  <thead>\n",
       "    <tr style=\"text-align: right;\">\n",
       "      <th></th>\n",
       "      <th>Year</th>\n",
       "      <th>month</th>\n",
       "      <th>inflation_rate</th>\n",
       "      <th>month_year</th>\n",
       "      <th>per</th>\n",
       "    </tr>\n",
       "    <tr>\n",
       "      <th>month_year</th>\n",
       "      <th></th>\n",
       "      <th></th>\n",
       "      <th></th>\n",
       "      <th></th>\n",
       "      <th></th>\n",
       "    </tr>\n",
       "  </thead>\n",
       "  <tbody>\n",
       "    <tr>\n",
       "      <th>2018-01-01</th>\n",
       "      <td>2018</td>\n",
       "      <td>Jan</td>\n",
       "      <td>2.07%</td>\n",
       "      <td>2018-01-01</td>\n",
       "      <td>2018-01</td>\n",
       "    </tr>\n",
       "    <tr>\n",
       "      <th>2017-01-01</th>\n",
       "      <td>2017</td>\n",
       "      <td>Jan</td>\n",
       "      <td>2.50%</td>\n",
       "      <td>2017-01-01</td>\n",
       "      <td>2017-01</td>\n",
       "    </tr>\n",
       "    <tr>\n",
       "      <th>2016-01-01</th>\n",
       "      <td>2016</td>\n",
       "      <td>Jan</td>\n",
       "      <td>1.37%</td>\n",
       "      <td>2016-01-01</td>\n",
       "      <td>2016-01</td>\n",
       "    </tr>\n",
       "    <tr>\n",
       "      <th>2018-02-01</th>\n",
       "      <td>2018</td>\n",
       "      <td>Feb</td>\n",
       "      <td>2.21%</td>\n",
       "      <td>2018-02-01</td>\n",
       "      <td>2018-02</td>\n",
       "    </tr>\n",
       "    <tr>\n",
       "      <th>2017-02-01</th>\n",
       "      <td>2017</td>\n",
       "      <td>Feb</td>\n",
       "      <td>2.74%</td>\n",
       "      <td>2017-02-01</td>\n",
       "      <td>2017-02</td>\n",
       "    </tr>\n",
       "  </tbody>\n",
       "</table>\n",
       "</div>"
      ],
      "text/plain": [
       "            Year month inflation_rate month_year     per\n",
       "month_year                                              \n",
       "2018-01-01  2018   Jan          2.07% 2018-01-01 2018-01\n",
       "2017-01-01  2017   Jan          2.50% 2017-01-01 2017-01\n",
       "2016-01-01  2016   Jan          1.37% 2016-01-01 2016-01\n",
       "2018-02-01  2018   Feb          2.21% 2018-02-01 2018-02\n",
       "2017-02-01  2017   Feb          2.74% 2017-02-01 2017-02"
      ]
     },
     "execution_count": 29,
     "metadata": {},
     "output_type": "execute_result"
    }
   ],
   "source": [
    "inflation_rate.head()"
   ]
  },
  {
   "cell_type": "code",
   "execution_count": 30,
   "metadata": {},
   "outputs": [],
   "source": [
    "#Merge inflation_rate and inflation_rate_df on the period column and drop columns we aren't interested in to get\n",
    "#'inflation_rate_df_final'\n",
    "inflation_rate.set_index(inflation_rate['per'], inplace=True)\n",
    "inflation_rate_df.set_index(inflation_rate_df['per'], inplace = True)\n",
    "inflation_rate_df_final = pd.merge(inflation_rate_df, inflation_rate, how=\"left\", left_on=[\"per\"], right_on=[\"per\"])\n",
    "inflation_rate_df_final.drop(['per','Year','month','month_year'], axis=1, inplace = True)"
   ]
  },
  {
   "cell_type": "code",
   "execution_count": 31,
   "metadata": {},
   "outputs": [],
   "source": [
    "inflation_rate_df_final = inflation_rate_df_final.dropna(axis=0)"
   ]
  },
  {
   "cell_type": "code",
   "execution_count": 32,
   "metadata": {},
   "outputs": [],
   "source": [
    "inflation_rate_as_object = inflation_rate_df_final['inflation_rate']\n",
    "def gross_text_to_float_percent(gross_text):\n",
    "    clean_text = gross_text.replace('%','').replace(',','')\n",
    "    gross_as_float = float(clean_text)\n",
    "    return gross_as_float\n",
    "inflation_rate_float = []\n",
    "for elem in inflation_rate_as_object:\n",
    "    inflation_rate_float.append(gross_text_to_float_percent(elem))\n",
    "inflation_rate_df_final['inflation_rate_percent'] = inflation_rate_float"
   ]
  },
  {
   "cell_type": "code",
   "execution_count": 33,
   "metadata": {},
   "outputs": [],
   "source": [
    "inflation_rate_df_final.drop('inflation_rate', axis=1,inplace=True)"
   ]
  },
  {
   "cell_type": "code",
   "execution_count": 34,
   "metadata": {},
   "outputs": [
    {
     "data": {
      "text/html": [
       "<div>\n",
       "<style scoped>\n",
       "    .dataframe tbody tr th:only-of-type {\n",
       "        vertical-align: middle;\n",
       "    }\n",
       "\n",
       "    .dataframe tbody tr th {\n",
       "        vertical-align: top;\n",
       "    }\n",
       "\n",
       "    .dataframe thead th {\n",
       "        text-align: right;\n",
       "    }\n",
       "</style>\n",
       "<table border=\"1\" class=\"dataframe\">\n",
       "  <thead>\n",
       "    <tr style=\"text-align: right;\">\n",
       "      <th></th>\n",
       "      <th>DATE</th>\n",
       "      <th>inflation_rate_percent</th>\n",
       "    </tr>\n",
       "  </thead>\n",
       "  <tbody>\n",
       "    <tr>\n",
       "      <th>0</th>\n",
       "      <td>2018-04-17</td>\n",
       "      <td>2.46</td>\n",
       "    </tr>\n",
       "    <tr>\n",
       "      <th>1</th>\n",
       "      <td>2018-04-16</td>\n",
       "      <td>2.46</td>\n",
       "    </tr>\n",
       "    <tr>\n",
       "      <th>2</th>\n",
       "      <td>2018-04-13</td>\n",
       "      <td>2.46</td>\n",
       "    </tr>\n",
       "    <tr>\n",
       "      <th>3</th>\n",
       "      <td>2018-04-12</td>\n",
       "      <td>2.46</td>\n",
       "    </tr>\n",
       "    <tr>\n",
       "      <th>4</th>\n",
       "      <td>2018-04-11</td>\n",
       "      <td>2.46</td>\n",
       "    </tr>\n",
       "  </tbody>\n",
       "</table>\n",
       "</div>"
      ],
      "text/plain": [
       "        DATE  inflation_rate_percent\n",
       "0 2018-04-17                    2.46\n",
       "1 2018-04-16                    2.46\n",
       "2 2018-04-13                    2.46\n",
       "3 2018-04-12                    2.46\n",
       "4 2018-04-11                    2.46"
      ]
     },
     "execution_count": 34,
     "metadata": {},
     "output_type": "execute_result"
    }
   ],
   "source": [
    "inflation_rate_df_final.head()"
   ]
  },
  {
   "cell_type": "code",
   "execution_count": 35,
   "metadata": {},
   "outputs": [],
   "source": [
    "inflation_rate_df_final.to_pickle('/Users/yajasdwivedi/metis/LinearRegressionPriceGold/inflation_rate_df_final.pkl')"
   ]
  },
  {
   "cell_type": "markdown",
   "metadata": {},
   "source": [
    "## Preparing M1 Money Supply Data"
   ]
  },
  {
   "cell_type": "code",
   "execution_count": 36,
   "metadata": {},
   "outputs": [],
   "source": [
    "#M1 data can be directly downloaded in csv format from 'https://fred.stlouisfed.org/series/M1' \n",
    "#by entering the desired dates"
   ]
  },
  {
   "cell_type": "code",
   "execution_count": 37,
   "metadata": {},
   "outputs": [],
   "source": [
    "m1_file = '/Users/yajasdwivedi/metis/LinearRegressionPriceGold/M1SL.csv'\n",
    "m1_df = pd.read_csv(m1_file)"
   ]
  },
  {
   "cell_type": "code",
   "execution_count": 38,
   "metadata": {},
   "outputs": [
    {
     "data": {
      "text/html": [
       "<div>\n",
       "<style scoped>\n",
       "    .dataframe tbody tr th:only-of-type {\n",
       "        vertical-align: middle;\n",
       "    }\n",
       "\n",
       "    .dataframe tbody tr th {\n",
       "        vertical-align: top;\n",
       "    }\n",
       "\n",
       "    .dataframe thead th {\n",
       "        text-align: right;\n",
       "    }\n",
       "</style>\n",
       "<table border=\"1\" class=\"dataframe\">\n",
       "  <thead>\n",
       "    <tr style=\"text-align: right;\">\n",
       "      <th></th>\n",
       "      <th>DATE</th>\n",
       "      <th>M1SL</th>\n",
       "    </tr>\n",
       "  </thead>\n",
       "  <tbody>\n",
       "    <tr>\n",
       "      <th>0</th>\n",
       "      <td>2016-08-01</td>\n",
       "      <td>3317.7</td>\n",
       "    </tr>\n",
       "    <tr>\n",
       "      <th>1</th>\n",
       "      <td>2016-09-01</td>\n",
       "      <td>3329.7</td>\n",
       "    </tr>\n",
       "    <tr>\n",
       "      <th>2</th>\n",
       "      <td>2016-10-01</td>\n",
       "      <td>3336.9</td>\n",
       "    </tr>\n",
       "    <tr>\n",
       "      <th>3</th>\n",
       "      <td>2016-11-01</td>\n",
       "      <td>3349.6</td>\n",
       "    </tr>\n",
       "    <tr>\n",
       "      <th>4</th>\n",
       "      <td>2016-12-01</td>\n",
       "      <td>3341.9</td>\n",
       "    </tr>\n",
       "  </tbody>\n",
       "</table>\n",
       "</div>"
      ],
      "text/plain": [
       "         DATE    M1SL\n",
       "0  2016-08-01  3317.7\n",
       "1  2016-09-01  3329.7\n",
       "2  2016-10-01  3336.9\n",
       "3  2016-11-01  3349.6\n",
       "4  2016-12-01  3341.9"
      ]
     },
     "execution_count": 38,
     "metadata": {},
     "output_type": "execute_result"
    }
   ],
   "source": [
    "m1_df.head()"
   ]
  },
  {
   "cell_type": "code",
   "execution_count": 39,
   "metadata": {},
   "outputs": [],
   "source": [
    "m1_dates_df = pd.DataFrame({\"DATE\": data_dates})\n",
    "m1_dates_df.sort_values('DATE', ascending = False, inplace = True)\n",
    "m1_dates_df.reset_index(inplace = True)\n",
    "m1_dates_df.drop('index',axis=1,inplace=True)\n",
    "m1_df.DATE = pd.to_datetime(m1_df.DATE)\n",
    "m1_df.set_index(m1_df['DATE'], inplace=True)\n",
    "m1_df['per'] = m1_df.index.to_period('M')\n",
    "m1_dates_df.set_index(m1_dates_df['DATE'], inplace=True)\n",
    "m1_dates_df['per'] = m1_dates_df.index.to_period('M')"
   ]
  },
  {
   "cell_type": "code",
   "execution_count": 40,
   "metadata": {},
   "outputs": [
    {
     "data": {
      "text/html": [
       "<div>\n",
       "<style scoped>\n",
       "    .dataframe tbody tr th:only-of-type {\n",
       "        vertical-align: middle;\n",
       "    }\n",
       "\n",
       "    .dataframe tbody tr th {\n",
       "        vertical-align: top;\n",
       "    }\n",
       "\n",
       "    .dataframe thead th {\n",
       "        text-align: right;\n",
       "    }\n",
       "</style>\n",
       "<table border=\"1\" class=\"dataframe\">\n",
       "  <thead>\n",
       "    <tr style=\"text-align: right;\">\n",
       "      <th></th>\n",
       "      <th>DATE</th>\n",
       "      <th>M1SL</th>\n",
       "      <th>per</th>\n",
       "    </tr>\n",
       "    <tr>\n",
       "      <th>DATE</th>\n",
       "      <th></th>\n",
       "      <th></th>\n",
       "      <th></th>\n",
       "    </tr>\n",
       "  </thead>\n",
       "  <tbody>\n",
       "    <tr>\n",
       "      <th>2016-08-01</th>\n",
       "      <td>2016-08-01</td>\n",
       "      <td>3317.7</td>\n",
       "      <td>2016-08</td>\n",
       "    </tr>\n",
       "    <tr>\n",
       "      <th>2016-09-01</th>\n",
       "      <td>2016-09-01</td>\n",
       "      <td>3329.7</td>\n",
       "      <td>2016-09</td>\n",
       "    </tr>\n",
       "    <tr>\n",
       "      <th>2016-10-01</th>\n",
       "      <td>2016-10-01</td>\n",
       "      <td>3336.9</td>\n",
       "      <td>2016-10</td>\n",
       "    </tr>\n",
       "    <tr>\n",
       "      <th>2016-11-01</th>\n",
       "      <td>2016-11-01</td>\n",
       "      <td>3349.6</td>\n",
       "      <td>2016-11</td>\n",
       "    </tr>\n",
       "    <tr>\n",
       "      <th>2016-12-01</th>\n",
       "      <td>2016-12-01</td>\n",
       "      <td>3341.9</td>\n",
       "      <td>2016-12</td>\n",
       "    </tr>\n",
       "  </tbody>\n",
       "</table>\n",
       "</div>"
      ],
      "text/plain": [
       "                 DATE    M1SL     per\n",
       "DATE                                 \n",
       "2016-08-01 2016-08-01  3317.7 2016-08\n",
       "2016-09-01 2016-09-01  3329.7 2016-09\n",
       "2016-10-01 2016-10-01  3336.9 2016-10\n",
       "2016-11-01 2016-11-01  3349.6 2016-11\n",
       "2016-12-01 2016-12-01  3341.9 2016-12"
      ]
     },
     "execution_count": 40,
     "metadata": {},
     "output_type": "execute_result"
    }
   ],
   "source": [
    "m1_df.head()"
   ]
  },
  {
   "cell_type": "code",
   "execution_count": 41,
   "metadata": {},
   "outputs": [
    {
     "data": {
      "text/html": [
       "<div>\n",
       "<style scoped>\n",
       "    .dataframe tbody tr th:only-of-type {\n",
       "        vertical-align: middle;\n",
       "    }\n",
       "\n",
       "    .dataframe tbody tr th {\n",
       "        vertical-align: top;\n",
       "    }\n",
       "\n",
       "    .dataframe thead th {\n",
       "        text-align: right;\n",
       "    }\n",
       "</style>\n",
       "<table border=\"1\" class=\"dataframe\">\n",
       "  <thead>\n",
       "    <tr style=\"text-align: right;\">\n",
       "      <th></th>\n",
       "      <th>DATE</th>\n",
       "      <th>per</th>\n",
       "    </tr>\n",
       "    <tr>\n",
       "      <th>DATE</th>\n",
       "      <th></th>\n",
       "      <th></th>\n",
       "    </tr>\n",
       "  </thead>\n",
       "  <tbody>\n",
       "    <tr>\n",
       "      <th>2018-04-17</th>\n",
       "      <td>2018-04-17</td>\n",
       "      <td>2018-04</td>\n",
       "    </tr>\n",
       "    <tr>\n",
       "      <th>2018-04-16</th>\n",
       "      <td>2018-04-16</td>\n",
       "      <td>2018-04</td>\n",
       "    </tr>\n",
       "    <tr>\n",
       "      <th>2018-04-13</th>\n",
       "      <td>2018-04-13</td>\n",
       "      <td>2018-04</td>\n",
       "    </tr>\n",
       "    <tr>\n",
       "      <th>2018-04-12</th>\n",
       "      <td>2018-04-12</td>\n",
       "      <td>2018-04</td>\n",
       "    </tr>\n",
       "    <tr>\n",
       "      <th>2018-04-11</th>\n",
       "      <td>2018-04-11</td>\n",
       "      <td>2018-04</td>\n",
       "    </tr>\n",
       "  </tbody>\n",
       "</table>\n",
       "</div>"
      ],
      "text/plain": [
       "                 DATE     per\n",
       "DATE                         \n",
       "2018-04-17 2018-04-17 2018-04\n",
       "2018-04-16 2018-04-16 2018-04\n",
       "2018-04-13 2018-04-13 2018-04\n",
       "2018-04-12 2018-04-12 2018-04\n",
       "2018-04-11 2018-04-11 2018-04"
      ]
     },
     "execution_count": 41,
     "metadata": {},
     "output_type": "execute_result"
    }
   ],
   "source": [
    "m1_dates_df.head()"
   ]
  },
  {
   "cell_type": "code",
   "execution_count": 42,
   "metadata": {},
   "outputs": [],
   "source": [
    "m1_df_final = pd.merge(m1_df,m1_dates_df,how=\"right\",left_on = [\"per\"],right_on=[\"per\"])\n",
    "m1_df_final.drop(['DATE_x','per'], axis=1, inplace=True)\n",
    "columnsTitles=[\"DATE_y\",\"M1SL\"]\n",
    "m1_df_final=m1_df_final.reindex(columns=columnsTitles)\n",
    "m1_df_final.columns = ['DATE','M1SL']\n",
    "m1_df_final.sort_values('DATE', ascending = False, inplace = True)\n",
    "m1_df_final.reset_index(inplace = True)\n",
    "m1_df_final.drop('index',axis=1,inplace=True)"
   ]
  },
  {
   "cell_type": "code",
   "execution_count": 43,
   "metadata": {},
   "outputs": [],
   "source": [
    "m1_df_final = m1_df_final.dropna(axis=0)"
   ]
  },
  {
   "cell_type": "code",
   "execution_count": 44,
   "metadata": {},
   "outputs": [
    {
     "data": {
      "text/html": [
       "<div>\n",
       "<style scoped>\n",
       "    .dataframe tbody tr th:only-of-type {\n",
       "        vertical-align: middle;\n",
       "    }\n",
       "\n",
       "    .dataframe tbody tr th {\n",
       "        vertical-align: top;\n",
       "    }\n",
       "\n",
       "    .dataframe thead th {\n",
       "        text-align: right;\n",
       "    }\n",
       "</style>\n",
       "<table border=\"1\" class=\"dataframe\">\n",
       "  <thead>\n",
       "    <tr style=\"text-align: right;\">\n",
       "      <th></th>\n",
       "      <th>DATE</th>\n",
       "      <th>M1SL</th>\n",
       "    </tr>\n",
       "  </thead>\n",
       "  <tbody>\n",
       "    <tr>\n",
       "      <th>12</th>\n",
       "      <td>2018-03-30</td>\n",
       "      <td>3663.2</td>\n",
       "    </tr>\n",
       "    <tr>\n",
       "      <th>13</th>\n",
       "      <td>2018-03-29</td>\n",
       "      <td>3663.2</td>\n",
       "    </tr>\n",
       "    <tr>\n",
       "      <th>14</th>\n",
       "      <td>2018-03-28</td>\n",
       "      <td>3663.2</td>\n",
       "    </tr>\n",
       "    <tr>\n",
       "      <th>15</th>\n",
       "      <td>2018-03-27</td>\n",
       "      <td>3663.2</td>\n",
       "    </tr>\n",
       "    <tr>\n",
       "      <th>16</th>\n",
       "      <td>2018-03-26</td>\n",
       "      <td>3663.2</td>\n",
       "    </tr>\n",
       "  </tbody>\n",
       "</table>\n",
       "</div>"
      ],
      "text/plain": [
       "         DATE    M1SL\n",
       "12 2018-03-30  3663.2\n",
       "13 2018-03-29  3663.2\n",
       "14 2018-03-28  3663.2\n",
       "15 2018-03-27  3663.2\n",
       "16 2018-03-26  3663.2"
      ]
     },
     "execution_count": 44,
     "metadata": {},
     "output_type": "execute_result"
    }
   ],
   "source": [
    "m1_df_final.head()"
   ]
  },
  {
   "cell_type": "code",
   "execution_count": 45,
   "metadata": {},
   "outputs": [],
   "source": [
    "m1_df_final.to_pickle('/Users/yajasdwivedi/metis/LinearRegressionPriceGold/m1_df_final.pkl')"
   ]
  },
  {
   "cell_type": "markdown",
   "metadata": {},
   "source": [
    "## Preparing EURUSD Data"
   ]
  },
  {
   "cell_type": "code",
   "execution_count": 46,
   "metadata": {},
   "outputs": [],
   "source": [
    "#EURUSD data can be directly downloaded in csv format from 'https://www.investing.com/currencies/eur-usd-historical-data' \n",
    "#by entering the desired dates"
   ]
  },
  {
   "cell_type": "code",
   "execution_count": 47,
   "metadata": {},
   "outputs": [
    {
     "data": {
      "text/html": [
       "<div>\n",
       "<style scoped>\n",
       "    .dataframe tbody tr th:only-of-type {\n",
       "        vertical-align: middle;\n",
       "    }\n",
       "\n",
       "    .dataframe tbody tr th {\n",
       "        vertical-align: top;\n",
       "    }\n",
       "\n",
       "    .dataframe thead th {\n",
       "        text-align: right;\n",
       "    }\n",
       "</style>\n",
       "<table border=\"1\" class=\"dataframe\">\n",
       "  <thead>\n",
       "    <tr style=\"text-align: right;\">\n",
       "      <th></th>\n",
       "      <th>Date</th>\n",
       "      <th>Price</th>\n",
       "      <th>Open</th>\n",
       "      <th>High</th>\n",
       "      <th>Low</th>\n",
       "      <th>Change %</th>\n",
       "    </tr>\n",
       "  </thead>\n",
       "  <tbody>\n",
       "    <tr>\n",
       "      <th>0</th>\n",
       "      <td>2018-04-20</td>\n",
       "      <td>1.2288</td>\n",
       "      <td>1.2346</td>\n",
       "      <td>1.2354</td>\n",
       "      <td>1.2250</td>\n",
       "      <td>-0.47%</td>\n",
       "    </tr>\n",
       "    <tr>\n",
       "      <th>1</th>\n",
       "      <td>2018-04-19</td>\n",
       "      <td>1.2346</td>\n",
       "      <td>1.2373</td>\n",
       "      <td>1.2402</td>\n",
       "      <td>1.2329</td>\n",
       "      <td>-0.22%</td>\n",
       "    </tr>\n",
       "    <tr>\n",
       "      <th>2</th>\n",
       "      <td>2018-04-18</td>\n",
       "      <td>1.2373</td>\n",
       "      <td>1.2369</td>\n",
       "      <td>1.2398</td>\n",
       "      <td>1.2343</td>\n",
       "      <td>0.02%</td>\n",
       "    </tr>\n",
       "    <tr>\n",
       "      <th>3</th>\n",
       "      <td>2018-04-17</td>\n",
       "      <td>1.2370</td>\n",
       "      <td>1.2378</td>\n",
       "      <td>1.2413</td>\n",
       "      <td>1.2335</td>\n",
       "      <td>-0.08%</td>\n",
       "    </tr>\n",
       "    <tr>\n",
       "      <th>4</th>\n",
       "      <td>2018-04-16</td>\n",
       "      <td>1.2380</td>\n",
       "      <td>1.2330</td>\n",
       "      <td>1.2395</td>\n",
       "      <td>1.2325</td>\n",
       "      <td>0.40%</td>\n",
       "    </tr>\n",
       "  </tbody>\n",
       "</table>\n",
       "</div>"
      ],
      "text/plain": [
       "        Date   Price    Open    High     Low Change %\n",
       "0 2018-04-20  1.2288  1.2346  1.2354  1.2250   -0.47%\n",
       "1 2018-04-19  1.2346  1.2373  1.2402  1.2329   -0.22%\n",
       "2 2018-04-18  1.2373  1.2369  1.2398  1.2343    0.02%\n",
       "3 2018-04-17  1.2370  1.2378  1.2413  1.2335   -0.08%\n",
       "4 2018-04-16  1.2380  1.2330  1.2395  1.2325    0.40%"
      ]
     },
     "execution_count": 47,
     "metadata": {},
     "output_type": "execute_result"
    }
   ],
   "source": [
    "path_to_eurusd_file = '/Users/yajasdwivedi/metis/LinearRegressionPriceGold/EUR_USD Historical Data.csv'\n",
    "eurusd_df = pd.read_csv(path_to_eurusd_file)\n",
    "eurusd_df.Date = pd.to_datetime(eurusd_df.Date)\n",
    "eurusd_df.head()"
   ]
  },
  {
   "cell_type": "code",
   "execution_count": 48,
   "metadata": {},
   "outputs": [
    {
     "data": {
      "text/html": [
       "<div>\n",
       "<style scoped>\n",
       "    .dataframe tbody tr th:only-of-type {\n",
       "        vertical-align: middle;\n",
       "    }\n",
       "\n",
       "    .dataframe tbody tr th {\n",
       "        vertical-align: top;\n",
       "    }\n",
       "\n",
       "    .dataframe thead th {\n",
       "        text-align: right;\n",
       "    }\n",
       "</style>\n",
       "<table border=\"1\" class=\"dataframe\">\n",
       "  <thead>\n",
       "    <tr style=\"text-align: right;\">\n",
       "      <th></th>\n",
       "      <th>DATE</th>\n",
       "      <th>EURUSD</th>\n",
       "    </tr>\n",
       "  </thead>\n",
       "  <tbody>\n",
       "    <tr>\n",
       "      <th>0</th>\n",
       "      <td>2018-04-20</td>\n",
       "      <td>1.2288</td>\n",
       "    </tr>\n",
       "    <tr>\n",
       "      <th>1</th>\n",
       "      <td>2018-04-19</td>\n",
       "      <td>1.2346</td>\n",
       "    </tr>\n",
       "    <tr>\n",
       "      <th>2</th>\n",
       "      <td>2018-04-18</td>\n",
       "      <td>1.2373</td>\n",
       "    </tr>\n",
       "    <tr>\n",
       "      <th>3</th>\n",
       "      <td>2018-04-17</td>\n",
       "      <td>1.2370</td>\n",
       "    </tr>\n",
       "    <tr>\n",
       "      <th>4</th>\n",
       "      <td>2018-04-16</td>\n",
       "      <td>1.2380</td>\n",
       "    </tr>\n",
       "  </tbody>\n",
       "</table>\n",
       "</div>"
      ],
      "text/plain": [
       "        DATE  EURUSD\n",
       "0 2018-04-20  1.2288\n",
       "1 2018-04-19  1.2346\n",
       "2 2018-04-18  1.2373\n",
       "3 2018-04-17  1.2370\n",
       "4 2018-04-16  1.2380"
      ]
     },
     "execution_count": 48,
     "metadata": {},
     "output_type": "execute_result"
    }
   ],
   "source": [
    "eurusd_df.drop(['Open','High','Low','Change %'],axis=1,inplace=True)\n",
    "eurusd_df.columns = ['DATE','EURUSD']\n",
    "eurusd_df.head()"
   ]
  },
  {
   "cell_type": "code",
   "execution_count": 49,
   "metadata": {},
   "outputs": [],
   "source": [
    "eurusd_df.to_pickle('/Users/yajasdwivedi/metis/LinearRegressionPriceGold/eurusd_df.pkl')"
   ]
  }
 ],
 "metadata": {
  "kernelspec": {
   "display_name": "Python 3",
   "language": "python",
   "name": "python3"
  },
  "language_info": {
   "codemirror_mode": {
    "name": "ipython",
    "version": 3
   },
   "file_extension": ".py",
   "mimetype": "text/x-python",
   "name": "python",
   "nbconvert_exporter": "python",
   "pygments_lexer": "ipython3",
   "version": "3.6.5"
  }
 },
 "nbformat": 4,
 "nbformat_minor": 2
}
